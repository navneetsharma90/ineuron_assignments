{
 "cells": [
  {
   "cell_type": "markdown",
   "metadata": {},
   "source": [
    "## 1.1 Write a Python Program(with class concepts) to find the area of the triangle using the below\n",
    "formula.\n",
    "area = (s*(s-a)*(s-b)*(s-c)) ** 0.5\n",
    "Function to take the length of the sides of triangle from user should be defined in the parent\n",
    "class and function to calculate the area should be defined in subclass."
   ]
  },
  {
   "cell_type": "code",
   "execution_count": 40,
   "metadata": {},
   "outputs": [],
   "source": [
    "## Parent Class\n",
    "class areaOfTriangle:\n",
    "    def __str__(self):\n",
    "        return \"Calculate area of triangle\"\n",
    "    def __init__(self):\n",
    "        self.a = None\n",
    "        self.b = None\n",
    "        self.c = None\n",
    "    def takeInput(self):\n",
    "        self.a = int(input(\"\\nLength of one side a\\n\"))\n",
    "        self.b = int(input(\"\\nLength of second side b\\n\"))\n",
    "        self.c = int(input(\"\\nLength of thired side c\\n\"))\n",
    "\n",
    "## Child class\n",
    "class area(areaOfTriangle):\n",
    "    def __init__(self):\n",
    "        super().__init__()\n",
    "    def triangleArea(self):\n",
    "        s = (self.a + self.b + self.c)/2\n",
    "        \n",
    "        area = ((s*(s-self.a)*(s-self.b)*(s-self.c))**0.5)\n",
    "    \n",
    "        \n",
    "        return round(area,2)\n",
    "        "
   ]
  },
  {
   "cell_type": "code",
   "execution_count": 41,
   "metadata": {},
   "outputs": [
    {
     "name": "stdout",
     "output_type": "stream",
     "text": [
      "\n",
      "Length of one side a\n",
      "9\n",
      "\n",
      "Length of second side b\n",
      "10\n",
      "\n",
      "Length of thired side c\n",
      "11\n",
      "\n",
      "Triangle of area is 42.43\n"
     ]
    }
   ],
   "source": [
    "## Initilaize the class objects\n",
    "aa = area()\n",
    "## Take the inputs from user\n",
    "aa.takeInput()\n",
    "## Calculate and print the area of Triangle\n",
    "T_area = aa.triangleArea()\n",
    "print(\"\\nTriangle of area is {}\".format(T_area))"
   ]
  },
  {
   "cell_type": "code",
   "execution_count": null,
   "metadata": {},
   "outputs": [],
   "source": []
  },
  {
   "cell_type": "markdown",
   "metadata": {},
   "source": [
    "## 1.2 Write a function filter_long_words() that takes a list of words and an integer n and returns the list of words that are longer than n."
   ]
  },
  {
   "cell_type": "code",
   "execution_count": 64,
   "metadata": {},
   "outputs": [],
   "source": [
    "## Function body\n",
    "def filter_long_words():\n",
    "    lst_words = [i for i in input(\"please enter list of words\\n\").strip().split()]\n",
    "    minimum_length = int(input(\"please enter the minimum length of word\\n\"))\n",
    "    words_longer_than_n = []\n",
    "    for i in lst_words:\n",
    "        if len(i) > minimum_length:\n",
    "            words_longer_than_n.append(i)\n",
    "    return words_longer_than_n , minimum_length\n",
    "        \n",
    "    "
   ]
  },
  {
   "cell_type": "code",
   "execution_count": 65,
   "metadata": {},
   "outputs": [
    {
     "name": "stdout",
     "output_type": "stream",
     "text": [
      "please enter list of words\n",
      "hello hey hi agile detest mainfest\n",
      "please enter the minimum length of word\n",
      "3\n",
      "List of words ['hello', 'agile', 'detest', 'mainfest'] has length more than 3\n"
     ]
    }
   ],
   "source": [
    "## Call the function here\n",
    "list_of_words , minimum_lenght_of_words = filter_long_words()\n",
    "print(\"List of words {0} has length more than {1}\".format(list_of_words,minimum_lenght_of_words))"
   ]
  },
  {
   "cell_type": "code",
   "execution_count": null,
   "metadata": {},
   "outputs": [],
   "source": []
  },
  {
   "cell_type": "markdown",
   "metadata": {},
   "source": [
    "### 2.1 Write a Python program using function concept that maps list of words into a list of integers representing the lengths of the corresponding words.\n",
    "##### Hint: If a list [ ab,cde,erty] is passed on to the python function output should come as [2,3,4]\n",
    "##### Here 2,3 and 4 are the lengths of the words in the list."
   ]
  },
  {
   "cell_type": "code",
   "execution_count": 71,
   "metadata": {},
   "outputs": [
    {
     "name": "stdout",
     "output_type": "stream",
     "text": [
      "please enter list of words\n",
      "agile manifest ferver hanker\n",
      "lengths of the words in the list.\n",
      " [5, 8, 6, 6]\n"
     ]
    }
   ],
   "source": [
    "def map_word_list(lst_word):\n",
    "    lst = []\n",
    "    for i in lst_word:\n",
    "        lst.append(len(i))\n",
    "    return lst\n",
    "\n",
    "lst_words = [i for i in input(\"please enter list of words\\n\").strip().split()]\n",
    "map_word_length = map_word_list(lst_words)\n",
    "print(\"lengths of the words in the list.\\n\",map_word_length)"
   ]
  },
  {
   "cell_type": "code",
   "execution_count": null,
   "metadata": {},
   "outputs": [],
   "source": []
  },
  {
   "cell_type": "markdown",
   "metadata": {},
   "source": [
    "### 2.2 Write a Python function which takes a character (i.e. a string of length 1) and returns True if it is a vowel, False otherwise."
   ]
  },
  {
   "cell_type": "code",
   "execution_count": 72,
   "metadata": {},
   "outputs": [],
   "source": [
    "def check_sound_of_character(w):\n",
    "    vowel_sound = ['a','e','i','o','u']\n",
    "    if w in vowel_sound:\n",
    "        return True\n",
    "    else:\n",
    "        return False"
   ]
  },
  {
   "cell_type": "code",
   "execution_count": 74,
   "metadata": {},
   "outputs": [
    {
     "name": "stdout",
     "output_type": "stream",
     "text": [
      "please enter the character\n",
      "i\n",
      "True\n"
     ]
    }
   ],
   "source": [
    "char = input(\"please enter the character\\n\")\n",
    "\n",
    "is_vowel = check_sound_of_character(char)\n",
    "\n",
    "if is_vowel:\n",
    "    print(\"True\")\n",
    "else:\n",
    "    print(\"False\")"
   ]
  },
  {
   "cell_type": "code",
   "execution_count": null,
   "metadata": {},
   "outputs": [],
   "source": []
  }
 ],
 "metadata": {
  "kernelspec": {
   "display_name": "Python 3",
   "language": "python",
   "name": "python3"
  },
  "language_info": {
   "codemirror_mode": {
    "name": "ipython",
    "version": 3
   },
   "file_extension": ".py",
   "mimetype": "text/x-python",
   "name": "python",
   "nbconvert_exporter": "python",
   "pygments_lexer": "ipython3",
   "version": "3.7.7"
  }
 },
 "nbformat": 4,
 "nbformat_minor": 4
}
